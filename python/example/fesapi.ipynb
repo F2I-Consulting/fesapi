{
 "cells": [
  {
   "cell_type": "markdown",
   "id": "40a17e1f-53f0-4ec9-b2a4-2718acf2a59e",
   "metadata": {},
   "source": [
    "The very first step is to download and install the FESAPI wheel : pip install fesapi"
   ]
  },
  {
   "cell_type": "markdown",
   "id": "a16222c5-064e-431d-9dae-d3d6c535a6b9",
   "metadata": {},
   "source": [
    "Once FESAPI wheel installed, you need to first import it in order to be able to call its API (https://www.f2i-consulting.com/fesapi/doxygen/)"
   ]
  },
  {
   "cell_type": "code",
   "execution_count": 1,
   "id": "fe2772db-0f12-4ba3-bd7c-17890092dc63",
   "metadata": {},
   "outputs": [],
   "source": [
    "import fesapi"
   ]
  },
  {
   "cell_type": "markdown",
   "id": "0e0f0067-7c3e-4b4f-9da9-b6a4da7f8929",
   "metadata": {},
   "source": [
    "Let's now create a DataObjectRepository in order to store Energistics dataobjects in-memory."
   ]
  },
  {
   "cell_type": "code",
   "execution_count": 2,
   "id": "6d5cda5b-7627-4405-a4c0-ced8edbe9257",
   "metadata": {},
   "outputs": [],
   "source": [
    "repo = fesapi.DataObjectRepository()"
   ]
  },
  {
   "cell_type": "markdown",
   "id": "d7d5c21e-8b14-4bd6-a78f-d0bef5014e4f",
   "metadata": {},
   "source": [
    "Energistics local CRS and Energistics HDF Proxy dataobjects are respectively required when we want to export CRS aware dataobjects and RESQML2 representations. Let's create them and set them as default ones for all other Energistics dataobject we will create later."
   ]
  },
  {
   "cell_type": "code",
   "execution_count": 3,
   "id": "5c3e7a41-5270-4a06-9125-af784c097f17",
   "metadata": {},
   "outputs": [],
   "source": [
    "# Create an unknown local depth oriented 3D CRS in meters with no offset and no rotation\n",
    "local_3d_crs = repo.createLocalDepth3dCrs(\"\", \"Default CRS\",\n",
    "                                          0.0, 0.0, 0.0, 0.0,\n",
    "                                          fesapi.eml20__LengthUom_m, 5215,\n",
    "                                          fesapi.eml20__LengthUom_m, \"Unknown\",\n",
    "                                          False)\n",
    "repo.setDefaultCrs(local_3d_crs)\n",
    "# Create an HDF Proxy to store large numerical value arrays in an HDF5 file located in the current folder nad named TestingFesapiWithPython.h5\n",
    "file_name_without_extension = \"TestingFesapiWithPython\" \n",
    "hdf_proxy = repo.createHdfProxy(\"\", \"Hdf Proxy\",\n",
    "                                \".\", file_name_without_extension + \".h5\",\n",
    "                                fesapi.DataObjectRepository.openingMode_OVERWRITE)\n",
    "repo.setDefaultHdfProxy(hdf_proxy)"
   ]
  },
  {
   "cell_type": "markdown",
   "id": "dcfbaeab-a787-47ff-b323-437bb3b556df",
   "metadata": {},
   "source": [
    "We can now create plenty of Energistics dataobjects. Let's try a Horizon 2d grid."
   ]
  },
  {
   "cell_type": "code",
   "execution_count": 4,
   "id": "a987ec54-86a8-424f-9539-48b87a9e8dea",
   "metadata": {},
   "outputs": [],
   "source": [
    "horizon_feature = repo.createHorizon(\"\", \"My horizon feature\")\n",
    "horizon_interpretation = repo.createHorizonInterpretation(horizon_feature, \"\", \"My horizon interpretation\")\n",
    "horizon_grid_2d_representation = repo.createGrid2dRepresentation(horizon_interpretation, \"\", \"My horizon representation\")"
   ]
  },
  {
   "cell_type": "markdown",
   "id": "b564949a-03b8-4988-b4d8-c779b2f3fe2a",
   "metadata": {},
   "source": [
    "And let's set a 2x3 geometry on this 2d grid where the Z values equal hundred times the node index.\n",
    "\n",
    "The first (aka I) axis of this 2d grid is aligned on X and the second (aka J) axis of this 2d grid is aligned on Y.\n",
    "\n",
    "The spacing on the first axis between two node is 25m and the spacing on the second axis between two node is 50m"
   ]
  },
  {
   "cell_type": "code",
   "execution_count": 5,
   "id": "c6245f4b-5acd-454b-921d-99e767c36c79",
   "metadata": {},
   "outputs": [],
   "source": [
    "resqml_points = fesapi.DoubleArray(24)\n",
    "for i in range(6):\n",
    "    resqml_points.setitem(i, i*100)\n",
    "horizon_grid_2d_representation.setGeometryAsArray2dOfExplicitZ(resqml_points, 2, 3, hdf_proxy,\n",
    "                                                                0.0, 0.0, 0.0,\n",
    "                                                               1.0, 0.0, 0.0, 25.0,\n",
    "                                                               0.0, 1.0, 0.0, 50.0)"
   ]
  },
  {
   "cell_type": "markdown",
   "id": "0580e85e-0040-423c-8825-ebfb511ba26f",
   "metadata": {},
   "source": [
    "We can now serialize our DataObjectRepository into an EPC document in order to share it with other EPC aware application."
   ]
  },
  {
   "cell_type": "code",
   "execution_count": 6,
   "id": "b5d289e6-c699-4d88-a870-3dae2baf14ee",
   "metadata": {},
   "outputs": [],
   "source": [
    "# Create an EPC Document in the current folder nad named TestingFesapiWithPython.epc\n",
    "epc_file = fesapi.EpcDocument(file_name_without_extension + \".epc\")\n",
    "epc_file.serializeFrom(repo)\n",
    "epc_file.close()"
   ]
  }
 ],
 "metadata": {
  "kernelspec": {
   "display_name": "Python 3 (ipykernel)",
   "language": "python",
   "name": "python3"
  },
  "language_info": {
   "codemirror_mode": {
    "name": "ipython",
    "version": 3
   },
   "file_extension": ".py",
   "mimetype": "text/x-python",
   "name": "python",
   "nbconvert_exporter": "python",
   "pygments_lexer": "ipython3",
   "version": "3.11.5"
  }
 },
 "nbformat": 4,
 "nbformat_minor": 5
}
